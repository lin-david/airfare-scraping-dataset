{
 "cells": [
  {
   "cell_type": "code",
   "execution_count": 1,
   "metadata": {
    "collapsed": true
   },
   "outputs": [],
   "source": [
    "# Reference: https://github.com/hakanmhmd/air-fare-scraper/blob/master/flight_price_scrape.ipynb"
   ]
  },
  {
   "cell_type": "code",
   "execution_count": 2,
   "metadata": {},
   "outputs": [
    {
     "name": "stdout",
     "output_type": "stream",
     "text": [
      "Collecting selenium\n",
      "  Using cached selenium-3.7.0-py2.py3-none-any.whl\n",
      "Installing collected packages: selenium\n",
      "Successfully installed selenium-3.7.0\n"
     ]
    }
   ],
   "source": [
    "!pip install selenium"
   ]
  },
  {
   "cell_type": "code",
   "execution_count": 1,
   "metadata": {},
   "outputs": [],
   "source": [
    "from selenium import webdriver\n",
    "from selenium.webdriver.common.desired_capabilities import DesiredCapabilities\n",
    "\n",
    "import requests\n",
    "import bs4 as bs\n",
    "import pandas as pd"
   ]
  },
  {
   "cell_type": "code",
   "execution_count": 7,
   "metadata": {},
   "outputs": [
    {
     "data": {
      "text/plain": [
       "<Response [200]>"
      ]
     },
     "execution_count": 7,
     "metadata": {},
     "output_type": "execute_result"
    }
   ],
   "source": [
    "# f = from this airport (ex. SFO)\n",
    "# t = to this airport (ex. JFK)\n",
    "# d = date of flight (ex. yyyy-mm-dd)\n",
    "# tt = travel type (ex. o for one-way, m for multi-city)\n",
    "# a = airline (ex. UA for United)\n",
    "# s = # of stops (ex. 0 for nonstop)\n",
    "\n",
    "google_flights_url = '''\n",
    "https://www.google.com/flights/#search;f=SFO;t=EWR;d=2018-04-01;tt=o;a=UA;s=0\n",
    "'''\n",
    "\n",
    "# This should return <Response [200]>\n",
    "requests.get(google_flights_url)"
   ]
  },
  {
   "cell_type": "code",
   "execution_count": 8,
   "metadata": {},
   "outputs": [],
   "source": [
    "# Sources: \n",
    "# https://realpython.com/blog/python/headless-selenium-testing-with-python-and-phantomjs/\n",
    "# https://coderwall.com/p/9jgaeq/set-phantomjs-user-agent-string\n",
    "# if you have trouble downloading phantomjs:\n",
    "# https://apple.stackexchange.com/questions/41542/adding-a-new-executable-to-the-path-environment-variable \n",
    "dcap = dict(DesiredCapabilities.PHANTOMJS)\n",
    "dcap[\"phantomjs.page.settings.userAgent\"] = (\n",
    "    \"Mozilla/5.0 (Macintosh; Intel Mac OS X 10_10_5) AppleWebKit/537.36 (KHTML, like Gecko) Chrome/62.0.3202.94\")\n",
    "\n",
    "driver = webdriver.PhantomJS(desired_capabilities=dcap)\n",
    "driver.get(google_flights_url)"
   ]
  },
  {
   "cell_type": "code",
   "execution_count": 9,
   "metadata": {},
   "outputs": [],
   "source": [
    "# Read in source.content to beautifulsoup \n",
    "# beautifulsoup can parse (extract specific information) HTML code\n",
    "\n",
    "soup = bs.BeautifulSoup(driver.page_source, 'lxml') \n",
    "# we pass in the source content and choose a parser\n",
    "\n",
    "# features specifies what type of code we are parsing, \n",
    "# here 'lxml' specifies an HTML parser"
   ]
  },
  {
   "cell_type": "code",
   "execution_count": 10,
   "metadata": {
    "scrolled": false
   },
   "outputs": [],
   "source": [
    "# If you click into the printed text and then CTRL+F \"$2\",\n",
    "# you can see that it has the prices so the webscraping works\n",
    "#print(soup.prettify())"
   ]
  },
  {
   "cell_type": "code",
   "execution_count": 11,
   "metadata": {},
   "outputs": [
    {
     "data": {
      "text/plain": [
       "[]"
      ]
     },
     "execution_count": 11,
     "metadata": {},
     "output_type": "execute_result"
    }
   ],
   "source": [
    "# the price is between <div class=\"LJV2HGB-d-Ab\">\n",
    "prices = []\n",
    "for price in soup.findAll('div', 'LJV2HGB-d-Ab'):\n",
    "    prices.append(price.text.replace('$','').replace(',',''))\n",
    "    \n",
    "prices"
   ]
  },
  {
   "cell_type": "code",
   "execution_count": 12,
   "metadata": {
    "scrolled": true
   },
   "outputs": [],
   "source": [
    "# Time of departure is divided by <div class=\"LJV2HGB-d-Zb\">\n",
    "times = soup.findAll('div', 'LJV2HGB-d-Zb')\n",
    "for i in times:\n",
    "    print(i.text)"
   ]
  },
  {
   "cell_type": "code",
   "execution_count": 13,
   "metadata": {},
   "outputs": [
    {
     "data": {
      "text/plain": [
       "[<div class=\"LJV2HGB-d-E\">5h 22m</div>,\n",
       " <div class=\"LJV2HGB-d-E\">5h 15m</div>,\n",
       " <div class=\"LJV2HGB-d-E\">5h 20m</div>,\n",
       " <div class=\"LJV2HGB-d-E\">5h 22m</div>,\n",
       " <div class=\"LJV2HGB-d-E\">5h 18m</div>,\n",
       " <div class=\"LJV2HGB-d-E\">5h 16m</div>,\n",
       " <div class=\"LJV2HGB-d-E\">5h 27m</div>,\n",
       " <div class=\"LJV2HGB-d-E\">5h 21m</div>,\n",
       " <div class=\"LJV2HGB-d-E\">5h 30m</div>,\n",
       " <div class=\"LJV2HGB-d-E\">5h 17m</div>]"
      ]
     },
     "execution_count": 13,
     "metadata": {},
     "output_type": "execute_result"
    }
   ],
   "source": [
    "# Length of the flight is divided by <div class=\"LJV2HGB-d-E\">\n",
    "length = soup.findAll('div', 'LJV2HGB-d-E')\n",
    "length"
   ]
  },
  {
   "cell_type": "code",
   "execution_count": 14,
   "metadata": {},
   "outputs": [
    {
     "data": {
      "text/plain": [
       "[<div class=\"LJV2HGB-d-Qb\">Nonstop</div>,\n",
       " <div class=\"LJV2HGB-d-Qb\">Nonstop</div>,\n",
       " <div class=\"LJV2HGB-d-Qb\">Nonstop</div>,\n",
       " <div class=\"LJV2HGB-d-Qb\">Nonstop</div>,\n",
       " <div class=\"LJV2HGB-d-Qb\">Nonstop</div>,\n",
       " <div class=\"LJV2HGB-d-Qb\">Nonstop</div>,\n",
       " <div class=\"LJV2HGB-d-Qb\">Nonstop</div>,\n",
       " <div class=\"LJV2HGB-d-Qb\">Nonstop</div>,\n",
       " <div class=\"LJV2HGB-d-Qb\">Nonstop</div>,\n",
       " <div class=\"LJV2HGB-d-Qb\">Nonstop</div>]"
      ]
     },
     "execution_count": 14,
     "metadata": {},
     "output_type": "execute_result"
    }
   ],
   "source": [
    "# the number of stops is divided by <div class=\"LJV2HGB-d-Qb\">\n",
    "stops = soup.findAll('div', 'LJV2HGB-d-Qb')\n",
    "stops"
   ]
  },
  {
   "cell_type": "code",
   "execution_count": 31,
   "metadata": {},
   "outputs": [
    {
     "data": {
      "text/plain": [
       "[<div class=\"LJV2HGB-d-j\"><span>United</span></div>,\n",
       " <div class=\"LJV2HGB-d-j\"><span>United</span></div>,\n",
       " <div class=\"LJV2HGB-d-j\"><span>United</span></div>,\n",
       " <div class=\"LJV2HGB-d-j\"><span>United</span></div>,\n",
       " <div class=\"LJV2HGB-d-j\"><span>United</span></div>,\n",
       " <div class=\"LJV2HGB-d-j\"><span>United</span></div>,\n",
       " <div class=\"LJV2HGB-d-j\"><span>United</span></div>,\n",
       " <div class=\"LJV2HGB-d-j\"><span>United</span></div>,\n",
       " <div class=\"LJV2HGB-d-j\"><span>United</span></div>,\n",
       " <div class=\"LJV2HGB-d-j\"><span>United</span></div>]"
      ]
     },
     "execution_count": 31,
     "metadata": {},
     "output_type": "execute_result"
    }
   ],
   "source": [
    "#the airline is divided by <div class=\"LJV2HGB-d-j\">\n",
    "airline = soup.findAll('div','LJV2HGB-d-j')\n",
    "airline"
   ]
  },
  {
   "cell_type": "code",
   "execution_count": 38,
   "metadata": {},
   "outputs": [
    {
     "data": {
      "text/plain": [
       "['United',\n",
       " 'United',\n",
       " 'United',\n",
       " 'United',\n",
       " 'United',\n",
       " 'United',\n",
       " 'United',\n",
       " 'United',\n",
       " 'United',\n",
       " 'United']"
      ]
     },
     "execution_count": 38,
     "metadata": {},
     "output_type": "execute_result"
    }
   ],
   "source": [
    "# Now that we know where to find the necessary information,\n",
    "# we need to automate cleaning the output and put it into a DF\n",
    "airline=[]\n",
    "for airl in soup.findAll('div','LJV2HGB-d-j'):\n",
    "    airline.append(airl.text)\n",
    "    \n",
    "airline"
   ]
  },
  {
   "cell_type": "code",
   "execution_count": 52,
   "metadata": {
    "collapsed": true
   },
   "outputs": [],
   "source": [
    "#Can you help split the departure and arrivals time into different lists?\n",
    "#will also need additional columns for departure and arrival airports\n",
    "#but we'll deal with that when we make the list of airports we want to use\n",
    "def table(soup):\n",
    "    \"\"\"Creates a table with columns for airline, price, duration, \n",
    "    number of stops (or nonstop), departures and arrivals\"\"\"\n",
    "    airlines = []\n",
    "    for airline in soup.findAll('div','LJV2HGB-d-j'):\n",
    "        airlines.append(airline.text)\n",
    "        \n",
    "    prices = []\n",
    "    for price in soup.findAll('div', 'LJV2HGB-d-Ab'):\n",
    "        prices.append(price.text.replace('$','').replace(',',''))\n",
    "    \n",
    "    duration = []\n",
    "    for time in soup.findAll('div', 'LJV2HGB-d-E'):\n",
    "        duration.append(time.text)\n",
    "        \n",
    "    stops = []\n",
    "    for stop in soup.findAll('div', 'LJV2HGB-d-Qb'):\n",
    "        stops.append(stop.text)\n",
    "    \n",
    "    tbl = pd.DataFrame(list(zip(airlines,prices,duration,stops)),\n",
    "                      columns = ['Airline', 'Price', 'Duration', 'Stops'])\n",
    "\n",
    "    return tbl\n",
    "   \n",
    "    "
   ]
  },
  {
   "cell_type": "code",
   "execution_count": 51,
   "metadata": {},
   "outputs": [
    {
     "data": {
      "text/html": [
       "<div>\n",
       "<style scoped>\n",
       "    .dataframe tbody tr th:only-of-type {\n",
       "        vertical-align: middle;\n",
       "    }\n",
       "\n",
       "    .dataframe tbody tr th {\n",
       "        vertical-align: top;\n",
       "    }\n",
       "\n",
       "    .dataframe thead th {\n",
       "        text-align: right;\n",
       "    }\n",
       "</style>\n",
       "<table border=\"1\" class=\"dataframe\">\n",
       "  <thead>\n",
       "    <tr style=\"text-align: right;\">\n",
       "      <th></th>\n",
       "      <th>Airline</th>\n",
       "      <th>Price</th>\n",
       "      <th>Duration</th>\n",
       "      <th>Stops</th>\n",
       "    </tr>\n",
       "  </thead>\n",
       "  <tbody>\n",
       "    <tr>\n",
       "      <th>0</th>\n",
       "      <td>United</td>\n",
       "      <td>240</td>\n",
       "      <td>5h 22m</td>\n",
       "      <td>Nonstop</td>\n",
       "    </tr>\n",
       "    <tr>\n",
       "      <th>1</th>\n",
       "      <td>United</td>\n",
       "      <td>240</td>\n",
       "      <td>5h 15m</td>\n",
       "      <td>Nonstop</td>\n",
       "    </tr>\n",
       "    <tr>\n",
       "      <th>2</th>\n",
       "      <td>United</td>\n",
       "      <td>240</td>\n",
       "      <td>5h 20m</td>\n",
       "      <td>Nonstop</td>\n",
       "    </tr>\n",
       "    <tr>\n",
       "      <th>3</th>\n",
       "      <td>United</td>\n",
       "      <td>265</td>\n",
       "      <td>5h 22m</td>\n",
       "      <td>Nonstop</td>\n",
       "    </tr>\n",
       "    <tr>\n",
       "      <th>4</th>\n",
       "      <td>United</td>\n",
       "      <td>307</td>\n",
       "      <td>5h 18m</td>\n",
       "      <td>Nonstop</td>\n",
       "    </tr>\n",
       "    <tr>\n",
       "      <th>5</th>\n",
       "      <td>United</td>\n",
       "      <td>342</td>\n",
       "      <td>5h 16m</td>\n",
       "      <td>Nonstop</td>\n",
       "    </tr>\n",
       "    <tr>\n",
       "      <th>6</th>\n",
       "      <td>United</td>\n",
       "      <td>427</td>\n",
       "      <td>5h 27m</td>\n",
       "      <td>Nonstop</td>\n",
       "    </tr>\n",
       "    <tr>\n",
       "      <th>7</th>\n",
       "      <td>United</td>\n",
       "      <td>449</td>\n",
       "      <td>5h 21m</td>\n",
       "      <td>Nonstop</td>\n",
       "    </tr>\n",
       "    <tr>\n",
       "      <th>8</th>\n",
       "      <td>United</td>\n",
       "      <td>554</td>\n",
       "      <td>5h 30m</td>\n",
       "      <td>Nonstop</td>\n",
       "    </tr>\n",
       "    <tr>\n",
       "      <th>9</th>\n",
       "      <td>United</td>\n",
       "      <td>554</td>\n",
       "      <td>5h 17m</td>\n",
       "      <td>Nonstop</td>\n",
       "    </tr>\n",
       "  </tbody>\n",
       "</table>\n",
       "</div>"
      ],
      "text/plain": [
       "  Airline Price Duration    Stops\n",
       "0  United   240   5h 22m  Nonstop\n",
       "1  United   240   5h 15m  Nonstop\n",
       "2  United   240   5h 20m  Nonstop\n",
       "3  United   265   5h 22m  Nonstop\n",
       "4  United   307   5h 18m  Nonstop\n",
       "5  United   342   5h 16m  Nonstop\n",
       "6  United   427   5h 27m  Nonstop\n",
       "7  United   449   5h 21m  Nonstop\n",
       "8  United   554   5h 30m  Nonstop\n",
       "9  United   554   5h 17m  Nonstop"
      ]
     },
     "execution_count": 51,
     "metadata": {},
     "output_type": "execute_result"
    }
   ],
   "source": [
    "table(soup)"
   ]
  },
  {
   "cell_type": "code",
   "execution_count": null,
   "metadata": {
    "collapsed": true
   },
   "outputs": [],
   "source": []
  }
 ],
 "metadata": {
  "kernelspec": {
   "display_name": "Python 3",
   "language": "python",
   "name": "python3"
  },
  "language_info": {
   "codemirror_mode": {
    "name": "ipython",
    "version": 3
   },
   "file_extension": ".py",
   "mimetype": "text/x-python",
   "name": "python",
   "nbconvert_exporter": "python",
   "pygments_lexer": "ipython3",
   "version": "3.5.4"
  }
 },
 "nbformat": 4,
 "nbformat_minor": 2
}
